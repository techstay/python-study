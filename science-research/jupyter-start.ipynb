{
 "cells": [
  {
   "cell_type": "markdown",
   "metadata": {},
   "source": [
    "# jupyter notebook 入门\n",
    "\n",
    "jupyter notebook 是一个流行的交互式笔记本，可以一边编写内容，一边嵌入代码，并可以实时运行并查看代码的执行结果。所以 jupyter 笔记本在科研领域非常流行，很多研究员都使用 jupyter 笔记本来作为自己开发和分享的工具。\n",
    "\n",
    "## markdown\n",
    "\n",
    "在 jupyter notebook 中可以新建 markdown 格式的单元格，编写笔记内容。这些 markdown 会渲染成对应的样式，让作者无需为样式担心，专注于内容本身上。\n",
    "\n",
    "### 三级标题\n",
    "\n",
    "#### 四级标题\n",
    "\n",
    "##### 五级标题\n",
    "\n",
    "###### 六级标题\n",
    "\n",
    "前两个就是一级标题和二级标题的样式。\n",
    "\n",
    "---\n",
    "\n",
    "### 表格\n",
    "\n",
    "markdown 文件里也可以显示表格。\n",
    "\n",
    "| 姓名 | 年龄 |\n",
    "| ---- | ---- |\n",
    "| 张三 | 18   |\n",
    "| 李四 | 20   |\n",
    "| 王五 | 22   |\n",
    "| 赵六 | 68   |\n",
    "\n",
    "markdown 文件的其他语法可以参考[这里](https://github.com/techstay/studyNotes/blob/main/notes/misc/markdown.md)\n",
    "\n",
    "## 代码\n",
    "\n",
    "在 jupyter 笔记本中还可以交互式执行代码，每个单元格中可以放置多行代码，最后一行的输出会被当做单元格的执行结果。如果有多行输出的话，这些结果都会显示出来。\n",
    "\n",
    "jupyter 笔记本的结果也会保存在文件之中，下次打开的时候仍然存在。\n"
   ]
  },
  {
   "cell_type": "code",
   "execution_count": 5,
   "metadata": {},
   "outputs": [
    {
     "data": {
      "text/plain": [
       "1296"
      ]
     },
     "execution_count": 5,
     "metadata": {},
     "output_type": "execute_result"
    }
   ],
   "source": [
    "a = 6\n",
    "b = 4\n",
    "a**b"
   ]
  },
  {
   "cell_type": "code",
   "execution_count": 7,
   "metadata": {},
   "outputs": [
    {
     "name": "stdout",
     "output_type": "stream",
     "text": [
      "1x1=1\t1x2=2\t2x2=4\t1x3=3\t2x3=6\t3x3=9\t1x4=4\t2x4=8\t3x4=12\t4x4=16\t1x5=5\t2x5=10\t3x5=15\t4x5=20\t5x5=25\t1x6=6\t2x6=12\t3x6=18\t4x6=24\t5x6=30\t6x6=36\t1x7=7\t2x7=14\t3x7=21\t4x7=28\t5x7=35\t6x7=42\t7x7=49\t1x8=8\t2x8=16\t3x8=24\t4x8=32\t5x8=40\t6x8=48\t7x8=56\t8x8=64\t1x9=9\t2x9=18\t3x9=27\t4x9=36\t5x9=45\t6x9=54\t7x9=63\t8x9=72\t9x9=81\t\n"
     ]
    }
   ],
   "source": [
    "for a in range(1, 10):\n",
    "    for b in range(1, a + 1):\n",
    "        print(f\"{b}x{a}={a*b}\\t\", end=\"\")\n",
    "\n",
    "print()"
   ]
  }
 ],
 "metadata": {
  "kernelspec": {
   "display_name": "Python 3 (ipykernel)",
   "language": "python",
   "name": "python3"
  },
  "language_info": {
   "codemirror_mode": {
    "name": "ipython",
    "version": 3
   },
   "file_extension": ".py",
   "mimetype": "text/x-python",
   "name": "python",
   "nbconvert_exporter": "python",
   "pygments_lexer": "ipython3",
   "version": "3.11.3"
  }
 },
 "nbformat": 4,
 "nbformat_minor": 4
}
